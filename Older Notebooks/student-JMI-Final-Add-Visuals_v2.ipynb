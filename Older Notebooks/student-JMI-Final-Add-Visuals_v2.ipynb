{
 "cells": [
  {
   "cell_type": "markdown",
   "metadata": {},
   "source": [
    "# Final Project Submission\n",
    "* Student name: James M. Irivng, Ph.D.\n",
    "* Student pace: full time\n",
    "* Scheduled project review date/time: 05/15/19 2:30 pm\n",
    "* Instructor name: Jeff Herman / Brandon Lewis\n",
    "* Blog post URL:\n"
   ]
  },
  {
   "cell_type": "markdown",
   "metadata": {},
   "source": [
    "## Iowa Prisoner Recidivism Data\n",
    "\n",
    "- Source: https://www.kaggle.com/slonnadube/recidivism-for-offenders-released-from-prison\n",
    "- **Statistics about recidivism in prisoners from a 3 year prisoner**\n",
    "- **Target:**\n",
    "    - Recidivism - Return to Prison\n",
    "- **Features:**\n",
    "    - Fiscal Year Released\n",
    "    - Recidivism Reporting Year\n",
    "    - Race - Ethnicity\n",
    "    - Age At Release\n",
    "    - Convicting Offense Classification\n",
    "    - Convicting Offense Type\n",
    "    - Convicting Offense Subtype\n",
    "    - Main Supervising District\n",
    "    - Release Type\n",
    "    - Release type: Paroled to Detainder united\n",
    "    - Part of Target Population"
   ]
  },
  {
   "cell_type": "markdown",
   "metadata": {},
   "source": [
    "<img src=\"LSA_map_with_counties_districts_and_B54A5BBCE4156.jpg\" width=800>"
   ]
  },
  {
   "cell_type": "markdown",
   "metadata": {},
   "source": [
    "### Detailed variable descriptions:"
   ]
  },
  {
   "cell_type": "markdown",
   "metadata": {},
   "source": [
    "- **Fiscal Year Released**\n",
    "    - Fiscal year (year ending June 30) for which the offender was released from prison.\n",
    "\n",
    "- **Recidivism Reporting Year**\n",
    "    - Fiscal year (year ending June 30) that marks the end of the 3-year tracking period. For example, offenders exited prison in FY 2012 are found in recidivism reporting year FY 2015.\n",
    "\n",
    "- **Race - Ethnicity**\n",
    "    - Offender's Race and Ethnicity\n",
    "\n",
    "- **Convicting Offense Classification**\n",
    "    - Maximum penalties: A Felony = Life; B Felony = 25 or 50 years; C Felony = 10 years; D Felony = 5 years; Aggravated Misdemeanor = 2 years; Serious Misdemeanor = 1 year; Simple Misdemeanor = 30 days\n",
    "\n",
    "- **Convicting Offense Type**\n",
    "    - General category for the most serious offense for which the offender was placed in prison.\n",
    "\n",
    "- **Convicting Offense Subtype**\n",
    "    - Further classification of the most serious offense for which the offender was placed in prison.\n",
    "\n",
    "- **Release Type**\n",
    "    - Reasoning for Offender's release from prison.\n",
    "\n",
    "- **Main Supervising District**\n",
    "    - The Judicial District supervising the offender for the longest time during the tracking period.\n",
    "\n",
    "- **Recidivism - Return to Prison**\n",
    "    - No = No Recidivism; Yes = Prison admission for any reason within the 3-year tracking period\n",
    "    \n",
    "- **Part of Target Population** \n",
    "    - The Department of Corrections has undertaken specific strategies to reduce recidivism rates for prisoners who are on parole and are part of the target population.\n",
    "    ___"
   ]
  },
  {
   "cell_type": "markdown",
   "metadata": {},
   "source": [
    "# USING THE OSEMN MODEL TO GUIDE WORKFLOW"
   ]
  },
  {
   "cell_type": "markdown",
   "metadata": {},
   "source": [
    "1. **OBTAIN:**\n",
    "    - [x] Import data, inspect, check for datatypes to convert and null values\n",
    "<br><br>\n",
    "\n",
    "2. **SCRUB: cast data types, identify outliers, check for multicollinearity, normalize data**<br>\n",
    "    - Check and cast data types\n",
    "    - [x] Check for missing values \n",
    "    - [x] Check for multicollinearity\n",
    "    - [x] Normalize data (may want to do after some exploring)   \n",
    "    <br><br>\n",
    "            \n",
    "3. **EXPLORE:Check distributions, outliers, etc**\n",
    "    - [x] Check scales, ranges (df.describe())\n",
    "    - [x] Check histograms to get an idea of distributions (df.hist()) and data transformations to perform\n",
    "    - [x] Use scatterplots to check for linearity and possible categorical variables (df.plot(kind-'scatter')\n",
    "    <br><br>\n",
    "\n",
    "   \n",
    "4. **FIT AN INITIAL MODEL:** \n",
    "    - [x] Assess the model.\n",
    "        <br><br>\n",
    "5. **REVISE THE FITTED MODEL**\n",
    "    - [x] Adjust chosen model and hyper-parameters\n",
    "    <br><br>\n",
    "6. **HOLDOUT VALIDATION**\n",
    "    - [ ] Perform cross-validation\n",
    "___"
   ]
  },
  {
   "cell_type": "markdown",
   "metadata": {},
   "source": [
    "# OBTAIN:\n",
    "## Importing Packages"
   ]
  },
  {
   "cell_type": "markdown",
   "metadata": {},
   "source": [
    "### Using Custom PyPi Package - BroadSteel DataScience (bs_ds)\n"
   ]
  },
  {
   "cell_type": "markdown",
   "metadata": {},
   "source": [
    "<img src=\"https://bs-ds.readthedocs.io/en/latest/_images/bs_ds_logo.png\" width=200>"
   ]
  },
  {
   "cell_type": "markdown",
   "metadata": {},
   "source": [
    "- **Used several EDA functions from bs_ds.bamboo module:**\n",
    "    - inspect_df\n",
    "        - https://bs-ds.readthedocs.io/en/latest/bs_ds.html#bs_ds.bamboo.inspect_df\n",
    "    - check_null\n",
    "        - https://bs-ds.readthedocs.io/en/latest/bs_ds.html#bs_ds.bamboo.check_null\n",
    "    - check_unique\n",
    "        - https://bs-ds.readthedocs.io/en/latest/bs_ds.html#bs_ds.bamboo.check_unique\n",
    "    - check_column\n",
    "        - https://bs-ds.readthedocs.io/en/latest/bs_ds.html#bs_ds.bamboo.check_column\n",
    "    - check_numeric\n",
    "        - https://bs-ds.readthedocs.io/en/latest/bs_ds.html#bs_ds.bamboo.check_numeric\n",
    "    - big_pandas\n",
    "        - https://bs-ds.readthedocs.io/en/latest/bs_ds.html#bs_ds.bamboo.big_pandas\n",
    "    - ignore_warnings\n",
    "        - https://bs-ds.readthedocs.io/en/latest/bs_ds.html#bs_ds.bamboo.ignore_warnings\n",
    "    - drop_cols\n",
    "        - https://bs-ds.readthedocs.io/en/latest/bs_ds.html#bs_ds.bamboo.drop_cols"
   ]
  },
  {
   "cell_type": "code",
   "execution_count": 1,
   "metadata": {
    "ExecuteTime": {
     "end_time": "2020-04-23T23:05:09.749644Z",
     "start_time": "2020-04-23T23:05:07.291319Z"
    }
   },
   "outputs": [
    {
     "name": "stdout",
     "output_type": "stream",
     "text": [
      "bs_ds  v0.11.0 loaded.  Read the docs: https://bs-ds.readthedocs.io/en/latest/index.html\n",
      "> For convenient loading of standard modules use: `from bs_ds.imports import *`\n",
      "\n"
     ]
    },
    {
     "data": {
      "text/html": [
       "<style  type=\"text/css\" >\n",
       "</style><table id=\"T_e137558c_85b6_11ea_a859_4865ee12e626\" ><caption>Loaded Packages and Handles</caption><thead>    <tr>        <th class=\"col_heading level0 col0\" >Package</th>        <th class=\"col_heading level0 col1\" >Handle</th>        <th class=\"col_heading level0 col2\" >Description</th>    </tr></thead><tbody>\n",
       "                <tr>\n",
       "                                <td id=\"T_e137558c_85b6_11ea_a859_4865ee12e626row0_col0\" class=\"data row0 col0\" >bs_ds</td>\n",
       "                        <td id=\"T_e137558c_85b6_11ea_a859_4865ee12e626row0_col1\" class=\"data row0 col1\" >bs</td>\n",
       "                        <td id=\"T_e137558c_85b6_11ea_a859_4865ee12e626row0_col2\" class=\"data row0 col2\" >Custom data science bootcamp student package</td>\n",
       "            </tr>\n",
       "            <tr>\n",
       "                                <td id=\"T_e137558c_85b6_11ea_a859_4865ee12e626row1_col0\" class=\"data row1 col0\" >matplotlib</td>\n",
       "                        <td id=\"T_e137558c_85b6_11ea_a859_4865ee12e626row1_col1\" class=\"data row1 col1\" >mpl</td>\n",
       "                        <td id=\"T_e137558c_85b6_11ea_a859_4865ee12e626row1_col2\" class=\"data row1 col2\" >Matplotlib's base OOP module with formatting artists</td>\n",
       "            </tr>\n",
       "            <tr>\n",
       "                                <td id=\"T_e137558c_85b6_11ea_a859_4865ee12e626row2_col0\" class=\"data row2 col0\" >matplotlib.pyplot</td>\n",
       "                        <td id=\"T_e137558c_85b6_11ea_a859_4865ee12e626row2_col1\" class=\"data row2 col1\" >plt</td>\n",
       "                        <td id=\"T_e137558c_85b6_11ea_a859_4865ee12e626row2_col2\" class=\"data row2 col2\" >Matplotlib's matlab-like plotting module</td>\n",
       "            </tr>\n",
       "            <tr>\n",
       "                                <td id=\"T_e137558c_85b6_11ea_a859_4865ee12e626row3_col0\" class=\"data row3 col0\" >numpy</td>\n",
       "                        <td id=\"T_e137558c_85b6_11ea_a859_4865ee12e626row3_col1\" class=\"data row3 col1\" >np</td>\n",
       "                        <td id=\"T_e137558c_85b6_11ea_a859_4865ee12e626row3_col2\" class=\"data row3 col2\" >scientific computing with Python</td>\n",
       "            </tr>\n",
       "            <tr>\n",
       "                                <td id=\"T_e137558c_85b6_11ea_a859_4865ee12e626row4_col0\" class=\"data row4 col0\" >pandas</td>\n",
       "                        <td id=\"T_e137558c_85b6_11ea_a859_4865ee12e626row4_col1\" class=\"data row4 col1\" >pd</td>\n",
       "                        <td id=\"T_e137558c_85b6_11ea_a859_4865ee12e626row4_col2\" class=\"data row4 col2\" >High performance data structures and tools</td>\n",
       "            </tr>\n",
       "            <tr>\n",
       "                                <td id=\"T_e137558c_85b6_11ea_a859_4865ee12e626row5_col0\" class=\"data row5 col0\" >seaborn</td>\n",
       "                        <td id=\"T_e137558c_85b6_11ea_a859_4865ee12e626row5_col1\" class=\"data row5 col1\" >sns</td>\n",
       "                        <td id=\"T_e137558c_85b6_11ea_a859_4865ee12e626row5_col2\" class=\"data row5 col2\" >High-level data visualization library based on matplotlib</td>\n",
       "            </tr>\n",
       "    </tbody></table>"
      ],
      "text/plain": [
       "<pandas.io.formats.style.Styler at 0x10e710860>"
      ]
     },
     "metadata": {},
     "output_type": "display_data"
    }
   ],
   "source": [
    "# Import custom python package BroadSteel DataScience (bs_ds_)\n",
    "from bs_ds.imports import *\n",
    "from bs_ds.bamboo import inspect_df, check_null, check_unique, check_column, check_numeric, big_pandas, ignore_warnings"
   ]
  },
  {
   "cell_type": "code",
   "execution_count": 2,
   "metadata": {
    "ExecuteTime": {
     "end_time": "2020-04-23T23:05:09.762741Z",
     "start_time": "2020-04-23T23:05:09.751794Z"
    },
    "scrolled": true
   },
   "outputs": [],
   "source": [
    "# Enabling full-sized dataframes and info rows\n",
    "big_pandas()\n",
    "\n",
    "# Turning off warnings for function deprecations\n",
    "ignore_warnings()\n",
    "\n",
    "# Defining colorscheme for notebook\n",
    "plt.style.use('dark_background')\n",
    "\n",
    "# Adding CSS styled tables \n",
    "from bs_ds.prettypandas import *"
   ]
  },
  {
   "cell_type": "markdown",
   "metadata": {},
   "source": [
    "## Loading the dataset and removing unrelated columns"
   ]
  },
  {
   "cell_type": "code",
   "execution_count": 3,
   "metadata": {
    "ExecuteTime": {
     "end_time": "2020-04-23T23:05:09.767045Z",
     "start_time": "2020-04-23T23:05:09.764614Z"
    }
   },
   "outputs": [],
   "source": [
    "# Dataset Links\n",
    "full_all_prisoners_file = \"datasets/FULL_3-Year_Recidivism_for_Offenders_Released_from_Prison_in_Iowa.csv\"\n",
    "# only_repeat_criminals_w_new_crime_file= \"datasets/prison_recidivists_with_recidivism_type_only.csv\""
   ]
  },
  {
   "cell_type": "code",
   "execution_count": 4,
   "metadata": {
    "ExecuteTime": {
     "end_time": "2020-04-23T23:05:09.861887Z",
     "start_time": "2020-04-23T23:05:09.769621Z"
    }
   },
   "outputs": [],
   "source": [
    "# Will be using the all_prisoners file to predict recidivism\n",
    "df = pd.read_csv(full_all_prisoners_file)"
   ]
  },
  {
   "cell_type": "markdown",
   "metadata": {},
   "source": [
    "**Any columns that are about New Convictions or days to recidivism should be dropped for our initial model predicting recidivism.**\n",
    "- \"New..\", \"Days to Recividism\""
   ]
  },
  {
   "cell_type": "code",
   "execution_count": 5,
   "metadata": {
    "ExecuteTime": {
     "end_time": "2020-04-23T23:05:09.894709Z",
     "start_time": "2020-04-23T23:05:09.863554Z"
    }
   },
   "outputs": [],
   "source": [
    "from bs_ds.bamboo import drop_cols\n",
    "df = drop_cols(df, ['New','Days','Recidivism Type'])"
   ]
  },
  {
   "cell_type": "markdown",
   "metadata": {},
   "source": [
    "### Save original names vs short names in column_legend\n",
    "- then map names onto columns"
   ]
  },
  {
   "cell_type": "code",
   "execution_count": 6,
   "metadata": {
    "ExecuteTime": {
     "end_time": "2020-04-23T23:05:09.900008Z",
     "start_time": "2020-04-23T23:05:09.896135Z"
    }
   },
   "outputs": [
    {
     "name": "stdout",
     "output_type": "stream",
     "text": [
      "Index(['Fiscal Year Released', 'Recidivism Reporting Year', 'Race - Ethnicity',\n",
      "       'Age At Release ', 'Convicting Offense Classification',\n",
      "       'Convicting Offense Type', 'Convicting Offense Subtype', 'Release Type',\n",
      "       'Main Supervising District', 'Recidivism - Return to Prison',\n",
      "       'Part of Target Population', 'Sex'],\n",
      "      dtype='object')\n"
     ]
    }
   ],
   "source": [
    "print(df.columns)"
   ]
  },
  {
   "cell_type": "code",
   "execution_count": 7,
   "metadata": {
    "ExecuteTime": {
     "end_time": "2020-04-23T23:05:09.929864Z",
     "start_time": "2020-04-23T23:05:09.901903Z"
    }
   },
   "outputs": [
    {
     "data": {
      "text/html": [
       "<div>\n",
       "<style scoped>\n",
       "    .dataframe tbody tr th:only-of-type {\n",
       "        vertical-align: middle;\n",
       "    }\n",
       "\n",
       "    .dataframe tbody tr th {\n",
       "        vertical-align: top;\n",
       "    }\n",
       "\n",
       "    .dataframe thead th {\n",
       "        text-align: right;\n",
       "    }\n",
       "</style>\n",
       "<table border=\"1\" class=\"dataframe\">\n",
       "  <thead>\n",
       "    <tr style=\"text-align: right;\">\n",
       "      <th></th>\n",
       "      <th>yr_released</th>\n",
       "      <th>report_year</th>\n",
       "      <th>race_ethnicity</th>\n",
       "      <th>age_released</th>\n",
       "      <th>crime_class</th>\n",
       "      <th>crime_type</th>\n",
       "      <th>crime_subtype</th>\n",
       "      <th>release_type</th>\n",
       "      <th>super_dist</th>\n",
       "      <th>recidivist</th>\n",
       "      <th>target_pop</th>\n",
       "      <th>sex</th>\n",
       "    </tr>\n",
       "  </thead>\n",
       "  <tbody>\n",
       "    <tr>\n",
       "      <td>0</td>\n",
       "      <td>2010</td>\n",
       "      <td>2013</td>\n",
       "      <td>Black - Non-Hispanic</td>\n",
       "      <td>25-34</td>\n",
       "      <td>C Felony</td>\n",
       "      <td>Violent</td>\n",
       "      <td>Robbery</td>\n",
       "      <td>Parole</td>\n",
       "      <td>7JD</td>\n",
       "      <td>Yes</td>\n",
       "      <td>Yes</td>\n",
       "      <td>Male</td>\n",
       "    </tr>\n",
       "    <tr>\n",
       "      <td>1</td>\n",
       "      <td>2010</td>\n",
       "      <td>2013</td>\n",
       "      <td>White - Non-Hispanic</td>\n",
       "      <td>25-34</td>\n",
       "      <td>D Felony</td>\n",
       "      <td>Property</td>\n",
       "      <td>Theft</td>\n",
       "      <td>Discharged – End of Sentence</td>\n",
       "      <td>NaN</td>\n",
       "      <td>Yes</td>\n",
       "      <td>No</td>\n",
       "      <td>Male</td>\n",
       "    </tr>\n",
       "    <tr>\n",
       "      <td>2</td>\n",
       "      <td>2010</td>\n",
       "      <td>2013</td>\n",
       "      <td>White - Non-Hispanic</td>\n",
       "      <td>35-44</td>\n",
       "      <td>B Felony</td>\n",
       "      <td>Drug</td>\n",
       "      <td>Trafficking</td>\n",
       "      <td>Parole</td>\n",
       "      <td>5JD</td>\n",
       "      <td>Yes</td>\n",
       "      <td>Yes</td>\n",
       "      <td>Male</td>\n",
       "    </tr>\n",
       "    <tr>\n",
       "      <td>3</td>\n",
       "      <td>2010</td>\n",
       "      <td>2013</td>\n",
       "      <td>White - Non-Hispanic</td>\n",
       "      <td>25-34</td>\n",
       "      <td>B Felony</td>\n",
       "      <td>Other</td>\n",
       "      <td>Other Criminal</td>\n",
       "      <td>Parole</td>\n",
       "      <td>6JD</td>\n",
       "      <td>No</td>\n",
       "      <td>Yes</td>\n",
       "      <td>Male</td>\n",
       "    </tr>\n",
       "    <tr>\n",
       "      <td>4</td>\n",
       "      <td>2010</td>\n",
       "      <td>2013</td>\n",
       "      <td>Black - Non-Hispanic</td>\n",
       "      <td>35-44</td>\n",
       "      <td>D Felony</td>\n",
       "      <td>Violent</td>\n",
       "      <td>Assault</td>\n",
       "      <td>Discharged – End of Sentence</td>\n",
       "      <td>NaN</td>\n",
       "      <td>Yes</td>\n",
       "      <td>No</td>\n",
       "      <td>Male</td>\n",
       "    </tr>\n",
       "  </tbody>\n",
       "</table>\n",
       "</div>"
      ],
      "text/plain": [
       "   yr_released  report_year        race_ethnicity age_released crime_class crime_type   crime_subtype                  release_type super_dist recidivist target_pop   sex\n",
       "0         2010         2013  Black - Non-Hispanic        25-34    C Felony    Violent         Robbery                        Parole        7JD        Yes        Yes  Male\n",
       "1         2010         2013  White - Non-Hispanic        25-34    D Felony   Property           Theft  Discharged – End of Sentence        NaN        Yes         No  Male\n",
       "2         2010         2013  White - Non-Hispanic        35-44    B Felony       Drug     Trafficking                        Parole        5JD        Yes        Yes  Male\n",
       "3         2010         2013  White - Non-Hispanic        25-34    B Felony      Other  Other Criminal                        Parole        6JD         No        Yes  Male\n",
       "4         2010         2013  Black - Non-Hispanic        35-44    D Felony    Violent         Assault  Discharged – End of Sentence        NaN        Yes         No  Male"
      ]
     },
     "execution_count": 7,
     "metadata": {},
     "output_type": "execute_result"
    }
   ],
   "source": [
    "# New short-hand names to use\n",
    "colnames_short = ('yr_released','report_year','race_ethnicity',\n",
    "                  'age_released','crime_class','crime_type',\n",
    "                  'crime_subtype','release_type','super_dist',\n",
    "                  'recidivist','target_pop','sex')\n",
    "\n",
    "# Zipping the original and new into a renaming dictionary\n",
    "column_legend = dict(zip(df.columns,colnames_short))\n",
    "# Rename df with shorter names\n",
    "df.rename(mapper=column_legend, axis=1, inplace=True)\n",
    "df.head()"
   ]
  },
  {
   "cell_type": "markdown",
   "metadata": {},
   "source": [
    "# SCRUB / EXPLORE\n",
    "## EDA with Pandas_Profiling"
   ]
  },
  {
   "cell_type": "code",
   "execution_count": 8,
   "metadata": {
    "ExecuteTime": {
     "end_time": "2020-04-23T23:05:10.615738Z",
     "start_time": "2020-04-23T23:05:09.932563Z"
    }
   },
   "outputs": [],
   "source": [
    "import pandas_profiling as pp"
   ]
  },
  {
   "cell_type": "code",
   "execution_count": null,
   "metadata": {
    "ExecuteTime": {
     "start_time": "2020-04-23T23:05:07.331Z"
    },
    "scrolled": false
   },
   "outputs": [],
   "source": [
    "pp.ProfileReport(df)"
   ]
  },
  {
   "cell_type": "markdown",
   "metadata": {},
   "source": [
    "## ADDRESSING NULL VALUES"
   ]
  },
  {
   "cell_type": "code",
   "execution_count": null,
   "metadata": {
    "ExecuteTime": {
     "start_time": "2020-04-23T23:05:07.335Z"
    }
   },
   "outputs": [],
   "source": [
    "check_null(df)"
   ]
  },
  {
   "cell_type": "markdown",
   "metadata": {},
   "source": [
    "**Results of Null Check**\n",
    "- race_ethnicity has 30 (0.12% of data)\n",
    "    -  drop\n",
    "- age_released has 3 (0.01% of data)\n",
    "    - drop\n",
    "- sex has 3 (0.01% of data)\n",
    "    - drop\n",
    "- super_district has 9581(36.82% of data)\n",
    "    - replace with \"unknown\"\n",
    "- release_type has 1762 (6.77% of data)\n",
    "    - drop\n",
    "    \n",
    "**Dropping all null values from age_released, race_ethnicity, and release_type.**"
   ]
  },
  {
   "cell_type": "code",
   "execution_count": null,
   "metadata": {
    "ExecuteTime": {
     "start_time": "2020-04-23T23:05:07.340Z"
    }
   },
   "outputs": [],
   "source": [
    "from bs_ds import prettypandas as pp\n",
    "pp.html_on(CSS=['body{ text-align: center}'])"
   ]
  },
  {
   "cell_type": "code",
   "execution_count": null,
   "metadata": {
    "ExecuteTime": {
     "start_time": "2020-04-23T23:05:07.344Z"
    }
   },
   "outputs": [],
   "source": [
    "inspect_df(df)"
   ]
  },
  {
   "cell_type": "code",
   "execution_count": null,
   "metadata": {
    "ExecuteTime": {
     "start_time": "2020-04-23T23:05:07.348Z"
    }
   },
   "outputs": [],
   "source": [
    "# Filling NA's in super_dist and release_type\n",
    "df.dropna(subset=['age_released','race_ethnicity','sex','release_type'],inplace=True)\n",
    "df['super_dist'].fillna(\"unknown\", inplace=True)\n",
    "check_null(df)"
   ]
  },
  {
   "cell_type": "markdown",
   "metadata": {},
   "source": [
    "___\n",
    "## COMBINING AND REMAPPING CLASSES"
   ]
  },
  {
   "cell_type": "markdown",
   "metadata": {},
   "source": [
    "### df['race_ethnicity']"
   ]
  },
  {
   "cell_type": "code",
   "execution_count": null,
   "metadata": {
    "ExecuteTime": {
     "start_time": "2020-04-23T23:05:07.355Z"
    }
   },
   "outputs": [],
   "source": [
    "check_unique(df,['race_ethnicity'])"
   ]
  },
  {
   "cell_type": "markdown",
   "metadata": {},
   "source": [
    "- **Remapping race_ethnicity**\n",
    "    - Due to the low numbers for several of the race_ethnicity types, reducing and combining Hispanic and Non-Hispanic groups\n",
    "    - Alternative approach of separating race and ethnicity into 2 separate features was rejected after modeling"
   ]
  },
  {
   "cell_type": "code",
   "execution_count": null,
   "metadata": {
    "ExecuteTime": {
     "start_time": "2020-04-23T23:05:07.358Z"
    }
   },
   "outputs": [],
   "source": [
    "# Defining Dictionary Map for race_ethnicity categories\n",
    "race_ethnicity_map = {'White - Non-Hispanic':'White',\n",
    "                        'Black - Non-Hispanic': 'Black',\n",
    "                        'White - Hispanic' : 'Hispanic',\n",
    "                        'American Indian or Alaska Native - Non-Hispanic' : 'American Native',\n",
    "                        'Asian or Pacific Islander - Non-Hispanic' : 'Asian or Pacific Islander',\n",
    "                        'Black - Hispanic' : 'Black',\n",
    "                        'American Indian or Alaska Native - Hispanic':'American Native',\n",
    "                        'White -' : 'White',\n",
    "                        'Asian or Pacific Islander - Hispanic' : 'Asian or Pacific Islander',\n",
    "                        'N/A -' : np.nan,\n",
    "                        'Black -':'Black'}\n",
    "\n",
    "# Replacing original race_ethnicity column with remapped one.\n",
    "df['race_ethnicity'] = df['race_ethnicity'].map(race_ethnicity_map)"
   ]
  },
  {
   "cell_type": "code",
   "execution_count": null,
   "metadata": {
    "ExecuteTime": {
     "start_time": "2020-04-23T23:05:07.362Z"
    }
   },
   "outputs": [],
   "source": [
    "df.head()"
   ]
  },
  {
   "cell_type": "code",
   "execution_count": null,
   "metadata": {
    "ExecuteTime": {
     "start_time": "2020-04-23T23:05:07.366Z"
    }
   },
   "outputs": [],
   "source": [
    "check_unique(df,['race_ethnicity'])"
   ]
  },
  {
   "cell_type": "markdown",
   "metadata": {},
   "source": [
    "### df['crime_class']"
   ]
  },
  {
   "cell_type": "markdown",
   "metadata": {},
   "source": [
    "- **Remapping crime_class**\n",
    "    - Combine 'Other Felony' and 'Other Felony (Old Code)' -> nan\n",
    "    - Other Misdemeanor -> np.nan\n",
    "    - Felony - Mandatory Minimum -> np.nan\n",
    "    - Special Sentence 2005 -> Sex Offender\n",
    "    - 'Sexual Predator Community Supervision' -> 'Sex Offender'\n",
    "    - Other Felony -> np.nan    "
   ]
  },
  {
   "cell_type": "code",
   "execution_count": null,
   "metadata": {
    "ExecuteTime": {
     "start_time": "2020-04-23T23:05:07.371Z"
    }
   },
   "outputs": [],
   "source": [
    "check_unique(df,['crime_class'])"
   ]
  },
  {
   "cell_type": "code",
   "execution_count": null,
   "metadata": {
    "ExecuteTime": {
     "start_time": "2020-04-23T23:05:07.375Z"
    }
   },
   "outputs": [],
   "source": [
    "# Remapping\n",
    "crime_class_map = {'Other Felony (Old Code)': np.nan ,#or other felony\n",
    "                  'Other Misdemeanor':np.nan,\n",
    "                   'Felony - Mandatory Minimum':np.nan, # if minimum then lowest sentence ==  D Felony\n",
    "                   'Special Sentence 2005': 'Sex Offender',\n",
    "                   'Other Felony' : np.nan ,\n",
    "                   'Sexual Predator Community Supervision' : 'Sex Offender',\n",
    "                   'D Felony': 'D Felony',\n",
    "                   'C Felony' :'C Felony',\n",
    "                   'B Felony' : 'B Felony',\n",
    "                   'A Felony' : 'A Felony',\n",
    "                   'Aggravated Misdemeanor':'Aggravated Misdemeanor',\n",
    "                   'Felony - Enhancement to Original Penalty':'Felony - Enhanced',\n",
    "                   'Felony - Enhanced':'Felony - Enhanced' ,\n",
    "                   'Serious Misdemeanor':'Serious Misdemeanor',\n",
    "                   'Simple Misdemeanor':'Simple Misdemeanor'}\n",
    "\n",
    "df['crime_class'] = df['crime_class'].map(crime_class_map)"
   ]
  },
  {
   "cell_type": "markdown",
   "metadata": {},
   "source": [
    "### df['age_released']"
   ]
  },
  {
   "cell_type": "markdown",
   "metadata": {},
   "source": [
    "- **Encoding age groups as ordinal**"
   ]
  },
  {
   "cell_type": "code",
   "execution_count": null,
   "metadata": {
    "ExecuteTime": {
     "start_time": "2020-04-23T23:05:07.379Z"
    }
   },
   "outputs": [],
   "source": [
    "# Encoding age groups as ordinal\n",
    "age_ranges = ('Under 25','25-34', '35-44','45-54','55 and Older')\n",
    "age_codes = (0,1,2,3,4) \n",
    "# Zipping into Dictionary to Map onto Column\n",
    "age_map = dict(zip(age_ranges,age_codes))\n",
    "\n",
    "# Mapping age_map onto 'age_released'\n",
    "df['age_released'] = df['age_released'].map(age_map)"
   ]
  },
  {
   "cell_type": "markdown",
   "metadata": {},
   "source": [
    "### Remapping binary categories df[['recidivist','target_pop','sex']]"
   ]
  },
  {
   "cell_type": "code",
   "execution_count": null,
   "metadata": {
    "ExecuteTime": {
     "start_time": "2020-04-23T23:05:07.382Z"
    }
   },
   "outputs": [],
   "source": [
    "## Remapping binary categories\n",
    "\n",
    "# Recidivist\n",
    "recidivist_map = {'No':0,'Yes':1}\n",
    "df['recidivist'] = df['recidivist'].map(recidivist_map)\n",
    "\n",
    "# Target_pop\n",
    "target_pop_map = {'No':0,'Yes':1}\n",
    "df['target_pop'] = df['target_pop'].map(target_pop_map)\n",
    "\n",
    "#sex_map\n",
    "sex_map = {'Male':0,'Female':1}\n",
    "df['sex'] = df['sex'].map(sex_map)"
   ]
  },
  {
   "cell_type": "markdown",
   "metadata": {},
   "source": [
    "___\n",
    "## ENGINEERING FEATURES\n",
    "- **Engineering a simple 'felony' true false category**\n",
    "- **Combining crime_type and crime_subtype into types_combined**"
   ]
  },
  {
   "cell_type": "markdown",
   "metadata": {},
   "source": [
    "### Creating a simple 'felony' feature"
   ]
  },
  {
   "cell_type": "code",
   "execution_count": null,
   "metadata": {
    "ExecuteTime": {
     "start_time": "2020-04-23T23:05:07.387Z"
    }
   },
   "outputs": [],
   "source": [
    "# Engineering a simple 'felony' true false category\n",
    "df['felony'] = df['crime_class'].str.contains('felony',case=False)\n",
    "df['crime_types_combined'] = df['crime_type']+'_'+df['crime_subtype']\n",
    "# Combining crime_type and crime_subtype into types_combined\n",
    "df['crime_class_type_subtype']= df['crime_class']+'_'+df['crime_type']+'_'+df['crime_subtype']"
   ]
  },
  {
   "cell_type": "markdown",
   "metadata": {},
   "source": [
    "### Creating a 'max_sentence' feature based on crime class max penalties\n",
    "   "
   ]
  },
  {
   "cell_type": "code",
   "execution_count": null,
   "metadata": {
    "ExecuteTime": {
     "start_time": "2020-04-23T23:05:07.390Z"
    }
   },
   "outputs": [],
   "source": [
    "# Mapping years onto crime class\n",
    "crime_class_max_sentence_map = {'A Felony': 75,  # Life\n",
    "                                'Aggravated Misdemeanor': 2, # 2 years\n",
    "                                'B Felony': 50, # 25 or 50 years\n",
    "                                'C Felony': 10, # 10 years\n",
    "                                'D Felony': 5,  # 5 yeras\n",
    "                                'Felony - Enhanced': 10, # Add on to class C and D felonies, hard to approximate. \n",
    "                                'Serious Misdemeanor': 1, # 1 year\n",
    "                                'Sex Offender': 10, # 10 years\n",
    "                                'Simple Misdemeanor': 0.83} # 30 days\n",
    "\n",
    "# Mapping max_sentence_column\n",
    "df['max_sentence'] =df['crime_class'].map(crime_class_max_sentence_map)"
   ]
  },
  {
   "cell_type": "markdown",
   "metadata": {},
   "source": [
    "### Dropping all  values replaced with np.nan"
   ]
  },
  {
   "cell_type": "code",
   "execution_count": null,
   "metadata": {
    "ExecuteTime": {
     "start_time": "2020-04-23T23:05:07.394Z"
    },
    "scrolled": false
   },
   "outputs": [],
   "source": [
    "check_null(df)"
   ]
  },
  {
   "cell_type": "code",
   "execution_count": null,
   "metadata": {
    "ExecuteTime": {
     "start_time": "2020-04-23T23:05:07.398Z"
    },
    "scrolled": false
   },
   "outputs": [],
   "source": [
    "df.dropna(inplace=True)\n",
    "df.reset_index(inplace=True)\n",
    "check_null(df)"
   ]
  },
  {
   "cell_type": "code",
   "execution_count": null,
   "metadata": {
    "ExecuteTime": {
     "start_time": "2020-04-23T23:05:07.400Z"
    }
   },
   "outputs": [],
   "source": [
    "df.to_csv('Iowa_recidivism_features_pre-processing.csv')"
   ]
  },
  {
   "cell_type": "markdown",
   "metadata": {},
   "source": [
    "## Processing Chosen Feature Columns"
   ]
  },
  {
   "cell_type": "code",
   "execution_count": null,
   "metadata": {
    "ExecuteTime": {
     "start_time": "2020-04-23T23:05:07.404Z"
    }
   },
   "outputs": [],
   "source": [
    "# List of features to be analyzed as categories\n",
    "category_cols = ['yr_released','race_ethnicity', 'crime_class',\n",
    "                 'release_type','crime_type','crime_subtype',\n",
    "                 'target_pop','sex','super_dist','felony']\n",
    "\n",
    "# List of features to be analzyed as numbers\n",
    "number_cols = ['max_sentence','age_released']\n",
    "\n",
    "# Target feature\n",
    "target_col = ['recidivist']"
   ]
  },
  {
   "cell_type": "code",
   "execution_count": null,
   "metadata": {
    "ExecuteTime": {
     "start_time": "2020-04-23T23:05:07.406Z"
    },
    "code_folding": []
   },
   "outputs": [],
   "source": [
    "# Creating new dataframe ('df_to_split') to contain processed features for train_test_split\n",
    "df_to_split=pd.DataFrame()\n",
    "\n",
    "# MinMaxing Numerical Columns\n",
    "from sklearn.preprocessing import MinMaxScaler\n",
    "sca = MinMaxScaler()\n",
    "\n",
    "for header in number_cols:\n",
    "    print(header)\n",
    "    data = np.array(df[header])\n",
    "    res = sca.fit_transform(data.reshape(-1,1))\n",
    "    df_to_split[header] = res.ravel()    "
   ]
  },
  {
   "cell_type": "code",
   "execution_count": null,
   "metadata": {
    "ExecuteTime": {
     "start_time": "2020-04-23T23:05:07.409Z"
    }
   },
   "outputs": [],
   "source": [
    "# Convert categories to cat.codes\n",
    "for header in category_cols:\n",
    "    df_to_split[header] = df[header].astype('category').cat.codes\n",
    "    \n",
    "df_to_split.info()"
   ]
  },
  {
   "cell_type": "markdown",
   "metadata": {},
   "source": [
    "# FITTING AN INITIAL MODEL\n",
    "## Surveying Potential Algorithms with bs_ds\n",
    "- select_pca:\n",
    "    - https://bs-ds.readthedocs.io/en/latest/bs_ds.html#bs_ds.bs_ds.select_pca\n",
    "- thick_pipe:\n",
    "    - https://bs-ds.readthedocs.io/en/latest/bs_ds.html#bs_ds.bs_ds.thick_pipe\n"
   ]
  },
  {
   "cell_type": "code",
   "execution_count": null,
   "metadata": {
    "ExecuteTime": {
     "start_time": "2020-04-23T23:05:07.413Z"
    }
   },
   "outputs": [],
   "source": [
    "from bs_ds.bs_ds import select_pca, thick_pipe"
   ]
  },
  {
   "cell_type": "code",
   "execution_count": null,
   "metadata": {
    "ExecuteTime": {
     "start_time": "2020-04-23T23:05:07.417Z"
    }
   },
   "outputs": [],
   "source": [
    "X =pd.get_dummies(df_to_split, columns=category_cols, drop_first=True)\n",
    "y = df['recidivist']"
   ]
  },
  {
   "cell_type": "code",
   "execution_count": null,
   "metadata": {
    "ExecuteTime": {
     "start_time": "2020-04-23T23:05:07.420Z"
    }
   },
   "outputs": [],
   "source": [
    "from sklearn.model_selection import train_test_split\n",
    "# X_train, X_test, y_train, y_test = train_test_split(X, y, test_size = 0.4)"
   ]
  },
  {
   "cell_type": "markdown",
   "metadata": {},
   "source": [
    "#### Running select_pca to identify # of components that still explains 80% of variance"
   ]
  },
  {
   "cell_type": "code",
   "execution_count": null,
   "metadata": {
    "ExecuteTime": {
     "start_time": "2020-04-23T23:05:07.425Z"
    }
   },
   "outputs": [],
   "source": [
    "# select_pca(X_train) #,n_components_list=[range(10, X_train.shape[1]-1)])"
   ]
  },
  {
   "cell_type": "code",
   "execution_count": null,
   "metadata": {
    "ExecuteTime": {
     "start_time": "2020-04-23T23:05:07.428Z"
    },
    "scrolled": true
   },
   "outputs": [],
   "source": [
    "# Running thick_pipe to test alogorithms\n",
    "# thick_pipe(X_train, y_train, n_components=17)"
   ]
  },
  {
   "cell_type": "markdown",
   "metadata": {},
   "source": [
    "### >>> Fast-Forwarding through trial and error:\n",
    "- Regardless of changes to preprocessing and feature engineering, accuracy scores never increased about 0.68\n",
    "- One major concern was the vast majority of our features are categorical.\n",
    "    - Therefore, we investigated using another Machine Learning package, **CatBoost**"
   ]
  },
  {
   "cell_type": "markdown",
   "metadata": {},
   "source": [
    "## FITTING AN INITIAL MODEL USING CatBoostClassifier"
   ]
  },
  {
   "cell_type": "code",
   "execution_count": null,
   "metadata": {
    "ExecuteTime": {
     "start_time": "2020-04-23T23:05:07.435Z"
    }
   },
   "outputs": [],
   "source": [
    "# Define X and y to split\n",
    "X = df_to_split\n",
    "y = pd.Series(df[target_col].to_numpy().ravel())\n",
    "y.name = 'recidivist'"
   ]
  },
  {
   "cell_type": "code",
   "execution_count": null,
   "metadata": {
    "ExecuteTime": {
     "start_time": "2020-04-23T23:05:07.438Z"
    }
   },
   "outputs": [],
   "source": [
    "# Split into training and testing set\n",
    "from sklearn.model_selection import train_test_split\n",
    "X_train, X_test, y_train, y_test = train_test_split(X, y, test_size=0.4)"
   ]
  },
  {
   "cell_type": "code",
   "execution_count": null,
   "metadata": {
    "ExecuteTime": {
     "start_time": "2020-04-23T23:05:07.441Z"
    }
   },
   "outputs": [],
   "source": [
    "# Import catboost Pool to create training and testing pools\n",
    "from catboost import Pool, CatBoostClassifier\n",
    "\n",
    "train_pool =  Pool(data=X_train, label=y_train, cat_features=category_cols)\n",
    "test_pool = Pool(data=X_test, label=y_test,  cat_features=category_cols)"
   ]
  },
  {
   "cell_type": "code",
   "execution_count": null,
   "metadata": {
    "ExecuteTime": {
     "start_time": "2020-04-23T23:05:07.444Z"
    }
   },
   "outputs": [],
   "source": [
    "# Instantiating CatBoostClassifier \n",
    "cb_base = CatBoostClassifier(iterations=500, depth=12,\n",
    "                            boosting_type='Ordered',\n",
    "                            learning_rate=0.03,\n",
    "                            thread_count=-1,\n",
    "                            eval_metric='AUC',\n",
    "                            silent=True,\n",
    "                            allow_const_label=True)#,\n",
    "                           #task_type='GPU')"
   ]
  },
  {
   "cell_type": "code",
   "execution_count": null,
   "metadata": {
    "ExecuteTime": {
     "start_time": "2020-04-23T23:05:07.448Z"
    }
   },
   "outputs": [],
   "source": [
    "# Fitting Initial CatBoost Model\n",
    "cb_base.fit(train_pool,eval_set=test_pool, plot=True, early_stopping_rounds=10)\n",
    "cb_base.best_score_"
   ]
  },
  {
   "cell_type": "code",
   "execution_count": null,
   "metadata": {
    "ExecuteTime": {
     "start_time": "2020-04-23T23:05:07.451Z"
    },
    "scrolled": false
   },
   "outputs": [],
   "source": [
    "# catboost.core.CatBoostClassifier\n",
    "# help(cb_base.get_params())"
   ]
  },
  {
   "cell_type": "markdown",
   "metadata": {},
   "source": [
    "### VISUAL SUMMARY OF BASE MODEL"
   ]
  },
  {
   "cell_type": "code",
   "execution_count": null,
   "metadata": {
    "ExecuteTime": {
     "start_time": "2020-04-23T23:05:07.455Z"
    }
   },
   "outputs": [],
   "source": [
    "# Plotting Feature Importances\n",
    "important_feature_names = cb_base.feature_names_\n",
    "important_feature_scores = cb_base.feature_importances_\n",
    "\n",
    "important_features = pd.Series(important_feature_scores, index = important_feature_names)\n",
    "important_features.sort_values().plot(kind='barh')"
   ]
  },
  {
   "cell_type": "markdown",
   "metadata": {},
   "source": [
    "#### Defining Roc_Auc Curve"
   ]
  },
  {
   "cell_type": "code",
   "execution_count": null,
   "metadata": {
    "ExecuteTime": {
     "start_time": "2020-04-23T23:05:07.458Z"
    }
   },
   "outputs": [],
   "source": [
    "from sklearn.metrics import confusion_matrix\n",
    "from sklearn.metrics import roc_auc_score, roc_curve"
   ]
  },
  {
   "cell_type": "code",
   "execution_count": null,
   "metadata": {
    "ExecuteTime": {
     "start_time": "2020-04-23T23:05:07.462Z"
    }
   },
   "outputs": [],
   "source": [
    "# Define plot_auc_roc_curve\n",
    "def plot_auc_roc_curve(y_test, y_test_pred):\n",
    "    \"\"\" Takes y_test and y_test_pred from a ML model and plots the AUC-ROC curve.\"\"\"\n",
    "    auc = roc_auc_score(y_test, y_test_pred[:,1])\n",
    "\n",
    "    FPr, TPr, thresh  = roc_curve(y_test, y_test_pred[:,1])\n",
    "    plt.plot(FPr, TPr,label=f\"AUC for CatboostClassifier:\\n{round(auc,2)}\" )\n",
    "\n",
    "    plt.plot([0, 1], [0, 1],  lw=2,linestyle='--')\n",
    "    plt.xlim([-0.01, 1.0])\n",
    "    plt.ylim([0.0, 1.05])\n",
    "\n",
    "    plt.xlabel('False Positive Rate')\n",
    "    plt.ylabel('True Positive Rate')\n",
    "    plt.title('Receiver operating characteristic (ROC) Curve')\n",
    "    plt.legend(loc=\"lower right\")\n",
    "    plt.show()\n",
    "\n",
    "# Plot roc_auc_curve\n",
    "y_test_pred = cb_base.predict_proba(X_test)\n",
    "plot_auc_roc_curve(y_test, y_test_pred)"
   ]
  },
  {
   "cell_type": "code",
   "execution_count": null,
   "metadata": {
    "ExecuteTime": {
     "start_time": "2020-04-23T23:05:07.465Z"
    }
   },
   "outputs": [],
   "source": [
    "import itertools\n",
    "from bs_ds.bs_ds import plot_confusion_matrix\n",
    "y_test_pred = cb_base.predict(X_test)\n",
    "conf_matrix = confusion_matrix(y_test, y_test_pred)\n",
    "\n",
    "plot_confusion_matrix(conf_matrix, classes=['Non-Recidivist', 'Recidivist'], normalize=True, cmap='Reds',\n",
    "                      title='Confusion Matrix:\\n CatBoost Recidivist Classifcation\\n')"
   ]
  },
  {
   "cell_type": "markdown",
   "metadata": {},
   "source": [
    "### Notes Following Initial Modeling:\n",
    "- The ROC-AUC Curve Shows that our model performs better than chance. \n",
    "- HOWEVE, There is a major issue with our confusion matrix.\n",
    "    - There are an extremely high # of False Negatives (prisoners Predicted to be \"Non-Recidivist\",but were actually \"Recidivist\")\n",
    "    - This is a serious flaw with the model and serious hinders real-world applicability. \n",
    "- This may be due to the imbalance of cases of recidivists vs non-recidivists in our dataset."
   ]
  },
  {
   "cell_type": "markdown",
   "metadata": {},
   "source": [
    "# REVISING THE MODEL\n",
    "## Balancing Target Classes Using Synthetic Minority Oversampling"
   ]
  },
  {
   "cell_type": "code",
   "execution_count": null,
   "metadata": {
    "ExecuteTime": {
     "start_time": "2020-04-23T23:05:07.469Z"
    }
   },
   "outputs": [],
   "source": [
    "# Define X and y \n",
    "X = df_to_split\n",
    "y = pd.Series(df[target_col].to_numpy().ravel())\n",
    "y.name = 'recidivist'"
   ]
  },
  {
   "cell_type": "code",
   "execution_count": null,
   "metadata": {
    "ExecuteTime": {
     "start_time": "2020-04-23T23:05:07.471Z"
    }
   },
   "outputs": [],
   "source": [
    "# df=pd.concat([y,X], axis=1)"
   ]
  },
  {
   "cell_type": "code",
   "execution_count": null,
   "metadata": {
    "ExecuteTime": {
     "start_time": "2020-04-23T23:05:07.474Z"
    },
    "scrolled": false
   },
   "outputs": [],
   "source": [
    "# import pandas_profiling as pp\n",
    "# pp.ProfileReport(df)"
   ]
  },
  {
   "cell_type": "markdown",
   "metadata": {},
   "source": [
    "### Addressing the Imbalanced Class Issue\n",
    "- Adding Synthetic Minority Oversampling Technique to balance out the # of recidivists(1) and non-recidivists(0)"
   ]
  },
  {
   "cell_type": "code",
   "execution_count": null,
   "metadata": {
    "ExecuteTime": {
     "start_time": "2020-04-23T23:05:07.478Z"
    }
   },
   "outputs": [],
   "source": [
    "from imblearn.over_sampling import SMOTE\n",
    "\n",
    "print(pd.Series(y).value_counts())\n",
    "\n",
    "X_resampled, y_resampled = SMOTE().fit_sample(X,y)\n",
    "\n",
    "print(pd.Series(y_resampled).value_counts())"
   ]
  },
  {
   "cell_type": "code",
   "execution_count": null,
   "metadata": {
    "ExecuteTime": {
     "start_time": "2020-04-23T23:05:07.481Z"
    }
   },
   "outputs": [],
   "source": [
    "# Reformatting SMOTE transformed data\n",
    "\n",
    "# X_resampled back to a dataframe\n",
    "X_resampled = pd.DataFrame(X_resampled, columns = X.columns)\n",
    "\n",
    "# X_resampled category columns back to integers\n",
    "for header in category_cols:\n",
    "    X_resampled[header] = X_resampled[header].astype('int')\n",
    "    \n",
    "# y_resampled back to a named series    \n",
    "y_resampled = pd.Series(y_resampled)\n",
    "y_resampled.name ='recidivist'"
   ]
  },
  {
   "cell_type": "markdown",
   "metadata": {},
   "source": [
    "### Fitting a Revised Model with Balanced Classes"
   ]
  },
  {
   "cell_type": "code",
   "execution_count": null,
   "metadata": {
    "ExecuteTime": {
     "start_time": "2020-04-23T23:05:07.484Z"
    }
   },
   "outputs": [],
   "source": [
    "from sklearn.model_selection import train_test_split\n",
    "\n",
    "X_train, X_test, y_train, y_test = train_test_split(X_resampled, y_resampled, test_size=0.4)"
   ]
  },
  {
   "cell_type": "code",
   "execution_count": null,
   "metadata": {
    "ExecuteTime": {
     "start_time": "2020-04-23T23:05:07.487Z"
    }
   },
   "outputs": [],
   "source": [
    "from catboost import Pool, CatBoostClassifier\n",
    "train_pool =  Pool(data=X_train, label=y_train, cat_features=category_cols)\n",
    "test_pool = Pool(data=X_test, label=y_test,  cat_features=category_cols)"
   ]
  },
  {
   "cell_type": "code",
   "execution_count": null,
   "metadata": {
    "ExecuteTime": {
     "start_time": "2020-04-23T23:05:07.489Z"
    },
    "scrolled": true
   },
   "outputs": [],
   "source": [
    "cb_clf = CatBoostClassifier(iterations=3000, depth=5,\n",
    "                            boosting_type='Ordered',\n",
    "                            learning_rate=0.03,\n",
    "                            thread_count=-1,\n",
    "                            eval_metric='AUC',\n",
    "                            allow_const_label=True)#,\n",
    "#                            logging_level='Info')#,\n",
    "                           #task_type='GPU')\n"
   ]
  },
  {
   "cell_type": "code",
   "execution_count": null,
   "metadata": {
    "ExecuteTime": {
     "start_time": "2020-04-23T23:05:07.495Z"
    },
    "scrolled": false
   },
   "outputs": [],
   "source": [
    "cb_clf.fit(train_pool,eval_set=test_pool, plot=True, early_stopping_rounds=20)\n",
    "# cb_clf.best_score_"
   ]
  },
  {
   "cell_type": "markdown",
   "metadata": {},
   "source": [
    "_____________________________________________"
   ]
  },
  {
   "cell_type": "markdown",
   "metadata": {},
   "source": [
    "### Statistical Summary"
   ]
  },
  {
   "cell_type": "code",
   "execution_count": null,
   "metadata": {
    "ExecuteTime": {
     "start_time": "2020-04-23T23:05:07.499Z"
    }
   },
   "outputs": [],
   "source": [
    "from catboost.utils import get_roc_curve\n",
    "from sklearn.metrics import auc, roc_curve, accuracy_score, recall_score, balanced_accuracy_score, classification_report, roc_auc_score, precision_score\n",
    "\n",
    "y_preds = cb_clf.predict(X_test)\n",
    "y_prob_preds = cb_clf.predict_proba(X_test)\n",
    "\n",
    "print(classification_report(y_test, y_preds))"
   ]
  },
  {
   "cell_type": "code",
   "execution_count": null,
   "metadata": {
    "ExecuteTime": {
     "start_time": "2020-04-23T23:05:07.502Z"
    }
   },
   "outputs": [],
   "source": [
    "# Print catboost accuracy report\n",
    "print(f'Accuracy:{accuracy_score(y_test, y_preds):.2f}')\n",
    "print(f'Recall:{recall_score(y_test, y_preds):.2f}')\n",
    "print(f'Precision:{precision_score(y_test, y_preds):.2f}')\n",
    "# Get roc-auc curve from catboost\n",
    "fpr, tpr, thresholds = get_roc_curve(cb_clf, test_pool, thread_count=-1)\n",
    "print(f'AUC:{auc(fpr,tpr):.2f}')"
   ]
  },
  {
   "cell_type": "markdown",
   "metadata": {},
   "source": [
    "## Visual Summary"
   ]
  },
  {
   "cell_type": "code",
   "execution_count": null,
   "metadata": {
    "ExecuteTime": {
     "start_time": "2020-04-23T23:05:07.505Z"
    }
   },
   "outputs": [],
   "source": [
    "# Plotting Feature Importances\n",
    "# important_feature_names = cb_clf.feature_names_\n",
    "# important_feature_scores = cb_clf.feature_importances_\n",
    "\n",
    "important_features = pd.Series(cb_clf.feature_importances_, index = cb_clf.feature_names_)\n",
    "important_features.sort_values().plot(kind='barh')"
   ]
  },
  {
   "cell_type": "markdown",
   "metadata": {},
   "source": [
    "### AUC-ROC Curve"
   ]
  },
  {
   "cell_type": "code",
   "execution_count": null,
   "metadata": {
    "ExecuteTime": {
     "start_time": "2020-04-23T23:05:07.509Z"
    }
   },
   "outputs": [],
   "source": [
    "from sklearn.metrics import confusion_matrix\n",
    "from sklearn.metrics import roc_auc_score, roc_curve\n",
    "# from bs_ds.bs_ds import plot_a\n",
    "\n",
    "y_test_pred = cb_clf.predict_proba(X_test)\n",
    "plot_auc_roc_curve(y_test, y_test_pred)"
   ]
  },
  {
   "cell_type": "markdown",
   "metadata": {},
   "source": [
    "### Confusion Matrix\n"
   ]
  },
  {
   "cell_type": "code",
   "execution_count": null,
   "metadata": {
    "ExecuteTime": {
     "start_time": "2020-04-23T23:05:07.512Z"
    }
   },
   "outputs": [],
   "source": [
    "# import itertools\n",
    "# from bs_ds.bs_ds import plot_confusion_matrix\n",
    "y_test_pred = cb_clf.predict(X_test)\n",
    "conf_matrix = confusion_matrix(y_test, y_test_pred)\n",
    "\n",
    "plot_confusion_matrix(conf_matrix, classes=['Not-Recidivist', 'Recidivist'], normalize=True, cmap='Blues',\n",
    "                      title='Confusion Matrix: CatBoost Recidivist Classifcation\\n')"
   ]
  },
  {
   "cell_type": "code",
   "execution_count": null,
   "metadata": {
    "ExecuteTime": {
     "start_time": "2020-04-23T23:05:07.515Z"
    }
   },
   "outputs": [],
   "source": [
    "import cufflinks as cf\n",
    "cf.go_offline()"
   ]
  },
  {
   "cell_type": "code",
   "execution_count": null,
   "metadata": {
    "ExecuteTime": {
     "start_time": "2020-04-23T23:05:07.518Z"
    }
   },
   "outputs": [],
   "source": [
    "df.iplot(kind='histogram',barmode='grouped',categories='recidivist',x='age_released')"
   ]
  },
  {
   "cell_type": "markdown",
   "metadata": {},
   "source": [
    "### Using SHAP values to explain model"
   ]
  },
  {
   "cell_type": "code",
   "execution_count": null,
   "metadata": {},
   "outputs": [],
   "source": []
  },
  {
   "cell_type": "code",
   "execution_count": null,
   "metadata": {},
   "outputs": [],
   "source": []
  },
  {
   "cell_type": "markdown",
   "metadata": {},
   "source": [
    "# CONCLUSIONS\n",
    "- **After adjusting for imbalanced classes, the most important factor for determining recidivism are:**\n",
    "    - **Age at Release**\n",
    "    - **Supervising Judicial District**\n",
    "    - **Release Type**\n",
    "    - **Crime Subtype**\n",
    "    \n",
    "    \n",
    "## Recommendatons\n",
    "- This model could be used to predict which prisoners due for release may at the greatest risk for recidivism.<br><br>\n",
    "    - Using this knowledge, the state of Iowa could put new programs into action that target those at high risk for recidivism and provide additional assistance and guidance following release.<br><br>\n",
    "    - Additionally, there could be additional counseling or education _prior_ to release to supply the inmate with tools and options to avoid returning to a life of crime.\n",
    "    \n",
    "# FUTURE DIRECTIONS\n",
    "- With more time and reliable performance, would perform cross-validation of our final model.<br><br>\n",
    "- Additional visuals summarizing the underlying features effects on recidivism.<br><br>\n",
    "- Adapting more available visualization tools to better display the underpinning of the model.\n",
    "<br><br>\n",
    "- Exploration of the predictability of crimes types committed by recidivists."
   ]
  },
  {
   "cell_type": "markdown",
   "metadata": {},
   "source": [
    "### POST-REVIEW SUGGESTIONS / IDEAS:\n",
    "- [ ] Try using reduction instead of SMOTE.\n",
    "- [ ] seaborn catplot bar graphs\n",
    "- [ ] Add tree or other visuals\n",
    "    - Try Mike's SHAP plots"
   ]
  },
  {
   "cell_type": "code",
   "execution_count": null,
   "metadata": {
    "ExecuteTime": {
     "start_time": "2020-04-23T23:05:07.525Z"
    }
   },
   "outputs": [],
   "source": [
    "from bs_ds import viz_tree"
   ]
  },
  {
   "cell_type": "code",
   "execution_count": null,
   "metadata": {
    "ExecuteTime": {
     "start_time": "2020-04-23T23:05:07.527Z"
    }
   },
   "outputs": [],
   "source": [
    "viz_tree(cb_clf)"
   ]
  },
  {
   "cell_type": "code",
   "execution_count": null,
   "metadata": {},
   "outputs": [],
   "source": []
  },
  {
   "cell_type": "code",
   "execution_count": null,
   "metadata": {
    "ExecuteTime": {
     "start_time": "2020-04-23T23:05:07.531Z"
    }
   },
   "outputs": [],
   "source": [
    "compare_tree = sklearn.tree.DecisionTreeClassifier()\n",
    "dir(compare_tree)"
   ]
  },
  {
   "cell_type": "code",
   "execution_count": null,
   "metadata": {
    "ExecuteTime": {
     "start_time": "2020-04-23T23:05:07.533Z"
    }
   },
   "outputs": [],
   "source": [
    "compare_tree.fit(X_train, y_train)"
   ]
  },
  {
   "cell_type": "code",
   "execution_count": null,
   "metadata": {
    "ExecuteTime": {
     "start_time": "2020-04-23T23:05:07.536Z"
    }
   },
   "outputs": [],
   "source": [
    "dir(compare_tree)"
   ]
  },
  {
   "cell_type": "code",
   "execution_count": null,
   "metadata": {
    "ExecuteTime": {
     "start_time": "2020-04-23T23:05:07.538Z"
    },
    "scrolled": false
   },
   "outputs": [],
   "source": [
    "# This is the tree object that sklearn generates and is looking for \n",
    "help(compare_tree.tree_)"
   ]
  },
  {
   "cell_type": "code",
   "execution_count": null,
   "metadata": {
    "ExecuteTime": {
     "start_time": "2020-04-23T23:05:07.540Z"
    }
   },
   "outputs": [],
   "source": [
    "dir(cb_clf)"
   ]
  },
  {
   "cell_type": "code",
   "execution_count": null,
   "metadata": {
    "ExecuteTime": {
     "start_time": "2020-04-23T23:05:07.541Z"
    }
   },
   "outputs": [],
   "source": [
    "help(cb_clf.get_metadata())"
   ]
  },
  {
   "cell_type": "code",
   "execution_count": null,
   "metadata": {
    "ExecuteTime": {
     "start_time": "2020-04-23T23:05:07.543Z"
    }
   },
   "outputs": [],
   "source": [
    "test = cb_clf.get_metadata()"
   ]
  },
  {
   "cell_type": "code",
   "execution_count": null,
   "metadata": {
    "ExecuteTime": {
     "start_time": "2020-04-23T23:05:07.545Z"
    },
    "scrolled": true
   },
   "outputs": [],
   "source": [
    "help(cb_clf)"
   ]
  },
  {
   "cell_type": "markdown",
   "metadata": {},
   "source": [
    "### SHAP values\n",
    "https://github.com/jirvingphd/shap\n"
   ]
  },
  {
   "cell_type": "code",
   "execution_count": null,
   "metadata": {
    "ExecuteTime": {
     "start_time": "2020-04-23T23:05:07.550Z"
    }
   },
   "outputs": [],
   "source": [
    "import shap\n",
    "shap.initjs()"
   ]
  },
  {
   "cell_type": "code",
   "execution_count": null,
   "metadata": {
    "ExecuteTime": {
     "start_time": "2020-04-23T23:05:07.552Z"
    }
   },
   "outputs": [],
   "source": [
    "explainer = shap.TreeExplainer(cb_clf)"
   ]
  },
  {
   "cell_type": "code",
   "execution_count": null,
   "metadata": {
    "ExecuteTime": {
     "start_time": "2020-04-23T23:05:07.555Z"
    }
   },
   "outputs": [],
   "source": [
    "shap_vals = explainer.shap_values(train_pool)"
   ]
  },
  {
   "cell_type": "code",
   "execution_count": null,
   "metadata": {
    "ExecuteTime": {
     "start_time": "2020-04-23T23:05:07.558Z"
    }
   },
   "outputs": [],
   "source": [
    "shap.force_plot(explainer.expected_value, shap_vals[:1000],X_train[:1000])"
   ]
  },
  {
   "cell_type": "code",
   "execution_count": null,
   "metadata": {
    "ExecuteTime": {
     "start_time": "2020-04-23T23:05:07.560Z"
    }
   },
   "outputs": [],
   "source": [
    "shap.summary_plot(shap_vals, X_train)"
   ]
  },
  {
   "cell_type": "code",
   "execution_count": null,
   "metadata": {
    "ExecuteTime": {
     "start_time": "2020-04-23T23:05:07.563Z"
    }
   },
   "outputs": [],
   "source": [
    "shap.summary_plot(shap_vals, X_train, plot_type=\"bar\")"
   ]
  },
  {
   "cell_type": "code",
   "execution_count": null,
   "metadata": {},
   "outputs": [],
   "source": []
  }
 ],
 "metadata": {
  "kernelspec": {
   "display_name": "learn-env",
   "language": "python",
   "name": "learn-env"
  },
  "language_info": {
   "codemirror_mode": {
    "name": "ipython",
    "version": 3
   },
   "file_extension": ".py",
   "mimetype": "text/x-python",
   "name": "python",
   "nbconvert_exporter": "python",
   "pygments_lexer": "ipython3",
   "version": "3.6.11"
  },
  "toc": {
   "base_numbering": 1,
   "nav_menu": {},
   "number_sections": false,
   "sideBar": true,
   "skip_h1_title": false,
   "title_cell": "Table of Contents",
   "title_sidebar": "Contents",
   "toc_cell": false,
   "toc_position": {
    "height": "calc(100% - 180px)",
    "left": "10px",
    "top": "150px",
    "width": "307.181px"
   },
   "toc_section_display": true,
   "toc_window_display": true
  },
  "varInspector": {
   "cols": {
    "lenName": 16,
    "lenType": 16,
    "lenVar": 40
   },
   "kernels_config": {
    "python": {
     "delete_cmd_postfix": "",
     "delete_cmd_prefix": "del ",
     "library": "var_list.py",
     "varRefreshCmd": "print(var_dic_list())"
    },
    "r": {
     "delete_cmd_postfix": ") ",
     "delete_cmd_prefix": "rm(",
     "library": "var_list.r",
     "varRefreshCmd": "cat(var_dic_list()) "
    }
   },
   "oldHeight": 572.166222,
   "position": {
    "height": "593.931px",
    "left": "841.588px",
    "right": "20px",
    "top": "77px",
    "width": "705.306px"
   },
   "types_to_exclude": [
    "module",
    "function",
    "builtin_function_or_method",
    "instance",
    "_Feature"
   ],
   "varInspector_section_display": "block",
   "window_display": false
  }
 },
 "nbformat": 4,
 "nbformat_minor": 2
}
